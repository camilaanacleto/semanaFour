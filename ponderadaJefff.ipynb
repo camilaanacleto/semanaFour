{
  "cells": [
    {
      "cell_type": "markdown",
      "metadata": {
        "id": "7IEVxx2dy0__"
      },
      "source": [
        "# Código\n",
        "# Documentação descrita acima de cada parte do código"
      ]
    },
    {
      "cell_type": "markdown",
      "metadata": {
        "id": "-FkH_8N0wz_P"
      },
      "source": [
        "1. Importação de Bibliotecas\n",
        "O código começa importando as bibliotecas necessárias. pandas é usado para carregar e manipular os dados. numpy é usado para operações matemáticas. O TensorFlow (tensorflow.keras) é utilizado para construir e treinar o modelo de rede neural. sklearn fornece funções para dividir dados e calcular métricas de avaliação."
      ]
    },
    {
      "cell_type": "code",
      "execution_count": 1,
      "metadata": {
        "id": "ERbHY7hKxYMs"
      },
      "outputs": [],
      "source": [
        "import pandas as pd\n",
        "import numpy as np\n",
        "from tensorflow.keras.models import Sequential\n",
        "from tensorflow.keras.layers import Dense\n",
        "from tensorflow.keras.optimizers import Adam, RMSprop, SGD\n",
        "from sklearn.model_selection import train_test_split\n",
        "from sklearn.metrics import precision_score, recall_score, f1_score, roc_auc_score"
      ]
    },
    {
      "cell_type": "markdown",
      "metadata": {
        "id": "70X8rka5x2IX"
      },
      "source": [
        "2. Carregamento dos Dados\n",
        "Os dados são carregados de um arquivo CSV. As variáveis X e y representam, respectivamente, os recursos (features) e o rótulo (target) do dataset."
      ]
    },
    {
      "cell_type": "code",
      "execution_count": 3,
      "metadata": {
        "id": "plBNT9r4yBfM"
      },
      "outputs": [],
      "source": [
        "# Carregando os dados\n",
        "df = pd.read_csv('creditcard.csv')\n",
        "X = df.drop('Class', axis=1)\n",
        "y = df['Class']"
      ]
    },
    {
      "cell_type": "code",
      "execution_count": 4,
      "metadata": {
        "colab": {
          "base_uri": "https://localhost:8080/"
        },
        "id": "iucD3hbZgg2Z",
        "outputId": "b34e8430-38eb-4a70-c396-9561d6fa4a2d"
      },
      "outputs": [
        {
          "output_type": "stream",
          "name": "stdout",
          "text": [
            "Time      0\n",
            "V1        0\n",
            "V2        0\n",
            "V3        1\n",
            "V4        1\n",
            "V5        1\n",
            "V6        1\n",
            "V7        1\n",
            "V8        1\n",
            "V9        1\n",
            "V10       1\n",
            "V11       1\n",
            "V12       1\n",
            "V13       1\n",
            "V14       1\n",
            "V15       1\n",
            "V16       1\n",
            "V17       1\n",
            "V18       1\n",
            "V19       1\n",
            "V20       1\n",
            "V21       1\n",
            "V22       1\n",
            "V23       1\n",
            "V24       1\n",
            "V25       1\n",
            "V26       1\n",
            "V27       1\n",
            "V28       1\n",
            "Amount    1\n",
            "Class     1\n",
            "dtype: int64\n",
            "Time        int64\n",
            "V1        float64\n",
            "V2        float64\n",
            "V3        float64\n",
            "V4        float64\n",
            "V5        float64\n",
            "V6        float64\n",
            "V7        float64\n",
            "V8        float64\n",
            "V9        float64\n",
            "V10       float64\n",
            "V11       float64\n",
            "V12       float64\n",
            "V13       float64\n",
            "V14       float64\n",
            "V15       float64\n",
            "V16       float64\n",
            "V17       float64\n",
            "V18       float64\n",
            "V19       float64\n",
            "V20       float64\n",
            "V21       float64\n",
            "V22       float64\n",
            "V23       float64\n",
            "V24       float64\n",
            "V25       float64\n",
            "V26       float64\n",
            "V27       float64\n",
            "V28       float64\n",
            "Amount    float64\n",
            "Class     float64\n",
            "dtype: object\n"
          ]
        }
      ],
      "source": [
        "# Tratamento dos dados\n",
        "# Substituindo valores não numéricos (como '-') por NaN e, em seguida, lidando com NaN\n",
        "df.replace('-', np.nan, inplace=True)\n",
        "\n",
        "# Verificando se há valores ausentes\n",
        "print(df.isnull().sum())\n",
        "\n",
        "# Preenchendo valores ausentes com a média da coluna (você pode escolher outro método, como remover linhas com NaN)\n",
        "df.fillna(df.mean(), inplace=True)\n",
        "\n",
        "# Verificando se todos os valores agora são numéricos\n",
        "print(df.dtypes)"
      ]
    },
    {
      "cell_type": "markdown",
      "metadata": {
        "id": "Im1tjSHvyGVY"
      },
      "source": [
        "3. Preparação dos Dados\n",
        "Os dados são divididos em conjuntos de treino e teste, com 20% dos dados reservados para teste. Isso ajuda a avaliar o modelo em dados que não foram vistos durante o treinamento."
      ]
    },
    {
      "cell_type": "code",
      "execution_count": 5,
      "metadata": {
        "id": "VyxYPzaIyJ0A"
      },
      "outputs": [],
      "source": [
        "# Divisão dos dados em treino e teste\n",
        "X_train, X_test, y_train, y_test = train_test_split(X, y, test_size=0.2, random_state=42)\n"
      ]
    },
    {
      "cell_type": "markdown",
      "metadata": {
        "id": "n3-NL4hhyOIV"
      },
      "source": [
        "4. Definição do Modelo\n",
        "A função create_model define o modelo de rede neural. O modelo é composto por duas camadas ocultas com 256 neurônios cada e uma camada de saída com 1 neurônio. A função de ativação ReLU é usada nas camadas ocultas, e a função sigmóide é usada na camada de saída. A configuração do otimizador pode ser passada como argumento."
      ]
    },
    {
      "cell_type": "code",
      "execution_count": 6,
      "metadata": {
        "id": "B717wBhjyRkQ"
      },
      "outputs": [],
      "source": [
        "# Função para criar modelo\n",
        "def create_model(optimizer='adam'):\n",
        "    model = Sequential([\n",
        "        Dense(256, input_dim=X_train.shape[1], activation='relu'),\n",
        "        Dense(256, activation='relu'),\n",
        "        Dense(1, activation='sigmoid')\n",
        "    ])\n",
        "    model.compile(loss='binary_crossentropy', optimizer=optimizer, metrics=['accuracy'])\n",
        "    return model"
      ]
    },
    {
      "cell_type": "markdown",
      "metadata": {
        "id": "X2oxsYLgyWA6"
      },
      "source": [
        "5. Configuração e Treinamento do Modelo\n",
        "O modelo é treinado com diferentes combinações de otimizadores, tamanhos de lotes e números de épocas. Cada configuração é avaliada usando as métricas de precisão, recall, F1-score e AUC-ROC."
      ]
    },
    {
      "cell_type": "code",
      "execution_count": 7,
      "metadata": {
        "colab": {
          "base_uri": "https://localhost:8080/"
        },
        "id": "Ptded7RxwGnn",
        "outputId": "8be87c92-7b36-422c-9856-584e58c0b98b"
      },
      "outputs": [
        {
          "output_type": "stream",
          "name": "stderr",
          "text": [
            "/usr/local/lib/python3.10/dist-packages/keras/src/layers/core/dense.py:87: UserWarning: Do not pass an `input_shape`/`input_dim` argument to a layer. When using Sequential models, prefer using an `Input(shape)` object as the first layer in the model instead.\n",
            "  super().__init__(activity_regularizer=activity_regularizer, **kwargs)\n"
          ]
        },
        {
          "output_type": "stream",
          "name": "stdout",
          "text": [
            "\u001b[1m63/63\u001b[0m \u001b[32m━━━━━━━━━━━━━━━━━━━━\u001b[0m\u001b[37m\u001b[0m \u001b[1m0s\u001b[0m 3ms/step\n"
          ]
        },
        {
          "output_type": "stream",
          "name": "stderr",
          "text": [
            "/usr/local/lib/python3.10/dist-packages/keras/src/layers/core/dense.py:87: UserWarning: Do not pass an `input_shape`/`input_dim` argument to a layer. When using Sequential models, prefer using an `Input(shape)` object as the first layer in the model instead.\n",
            "  super().__init__(activity_regularizer=activity_regularizer, **kwargs)\n"
          ]
        },
        {
          "output_type": "stream",
          "name": "stdout",
          "text": [
            "\u001b[1m63/63\u001b[0m \u001b[32m━━━━━━━━━━━━━━━━━━━━\u001b[0m\u001b[37m\u001b[0m \u001b[1m0s\u001b[0m 2ms/step\n"
          ]
        },
        {
          "output_type": "stream",
          "name": "stderr",
          "text": [
            "/usr/local/lib/python3.10/dist-packages/keras/src/layers/core/dense.py:87: UserWarning: Do not pass an `input_shape`/`input_dim` argument to a layer. When using Sequential models, prefer using an `Input(shape)` object as the first layer in the model instead.\n",
            "  super().__init__(activity_regularizer=activity_regularizer, **kwargs)\n"
          ]
        },
        {
          "output_type": "stream",
          "name": "stdout",
          "text": [
            "\u001b[1m63/63\u001b[0m \u001b[32m━━━━━━━━━━━━━━━━━━━━\u001b[0m\u001b[37m\u001b[0m \u001b[1m0s\u001b[0m 2ms/step\n"
          ]
        },
        {
          "output_type": "stream",
          "name": "stderr",
          "text": [
            "/usr/local/lib/python3.10/dist-packages/keras/src/layers/core/dense.py:87: UserWarning: Do not pass an `input_shape`/`input_dim` argument to a layer. When using Sequential models, prefer using an `Input(shape)` object as the first layer in the model instead.\n",
            "  super().__init__(activity_regularizer=activity_regularizer, **kwargs)\n"
          ]
        },
        {
          "output_type": "stream",
          "name": "stdout",
          "text": [
            "\u001b[1m63/63\u001b[0m \u001b[32m━━━━━━━━━━━━━━━━━━━━\u001b[0m\u001b[37m\u001b[0m \u001b[1m0s\u001b[0m 4ms/step\n"
          ]
        },
        {
          "output_type": "stream",
          "name": "stderr",
          "text": [
            "/usr/local/lib/python3.10/dist-packages/keras/src/layers/core/dense.py:87: UserWarning: Do not pass an `input_shape`/`input_dim` argument to a layer. When using Sequential models, prefer using an `Input(shape)` object as the first layer in the model instead.\n",
            "  super().__init__(activity_regularizer=activity_regularizer, **kwargs)\n"
          ]
        },
        {
          "output_type": "stream",
          "name": "stdout",
          "text": [
            "\u001b[1m63/63\u001b[0m \u001b[32m━━━━━━━━━━━━━━━━━━━━\u001b[0m\u001b[37m\u001b[0m \u001b[1m0s\u001b[0m 2ms/step\n"
          ]
        },
        {
          "output_type": "stream",
          "name": "stderr",
          "text": [
            "/usr/local/lib/python3.10/dist-packages/keras/src/layers/core/dense.py:87: UserWarning: Do not pass an `input_shape`/`input_dim` argument to a layer. When using Sequential models, prefer using an `Input(shape)` object as the first layer in the model instead.\n",
            "  super().__init__(activity_regularizer=activity_regularizer, **kwargs)\n"
          ]
        },
        {
          "output_type": "stream",
          "name": "stdout",
          "text": [
            "\u001b[1m63/63\u001b[0m \u001b[32m━━━━━━━━━━━━━━━━━━━━\u001b[0m\u001b[37m\u001b[0m \u001b[1m0s\u001b[0m 4ms/step\n"
          ]
        },
        {
          "output_type": "stream",
          "name": "stderr",
          "text": [
            "/usr/local/lib/python3.10/dist-packages/keras/src/layers/core/dense.py:87: UserWarning: Do not pass an `input_shape`/`input_dim` argument to a layer. When using Sequential models, prefer using an `Input(shape)` object as the first layer in the model instead.\n",
            "  super().__init__(activity_regularizer=activity_regularizer, **kwargs)\n"
          ]
        },
        {
          "output_type": "stream",
          "name": "stdout",
          "text": [
            "\u001b[1m63/63\u001b[0m \u001b[32m━━━━━━━━━━━━━━━━━━━━\u001b[0m\u001b[37m\u001b[0m \u001b[1m0s\u001b[0m 2ms/step\n"
          ]
        },
        {
          "output_type": "stream",
          "name": "stderr",
          "text": [
            "/usr/local/lib/python3.10/dist-packages/keras/src/layers/core/dense.py:87: UserWarning: Do not pass an `input_shape`/`input_dim` argument to a layer. When using Sequential models, prefer using an `Input(shape)` object as the first layer in the model instead.\n",
            "  super().__init__(activity_regularizer=activity_regularizer, **kwargs)\n"
          ]
        },
        {
          "output_type": "stream",
          "name": "stdout",
          "text": [
            "\u001b[1m63/63\u001b[0m \u001b[32m━━━━━━━━━━━━━━━━━━━━\u001b[0m\u001b[37m\u001b[0m \u001b[1m0s\u001b[0m 2ms/step\n"
          ]
        },
        {
          "output_type": "stream",
          "name": "stderr",
          "text": [
            "/usr/local/lib/python3.10/dist-packages/keras/src/layers/core/dense.py:87: UserWarning: Do not pass an `input_shape`/`input_dim` argument to a layer. When using Sequential models, prefer using an `Input(shape)` object as the first layer in the model instead.\n",
            "  super().__init__(activity_regularizer=activity_regularizer, **kwargs)\n"
          ]
        },
        {
          "output_type": "stream",
          "name": "stdout",
          "text": [
            "\u001b[1m63/63\u001b[0m \u001b[32m━━━━━━━━━━━━━━━━━━━━\u001b[0m\u001b[37m\u001b[0m \u001b[1m0s\u001b[0m 3ms/step\n"
          ]
        },
        {
          "output_type": "stream",
          "name": "stderr",
          "text": [
            "/usr/local/lib/python3.10/dist-packages/keras/src/layers/core/dense.py:87: UserWarning: Do not pass an `input_shape`/`input_dim` argument to a layer. When using Sequential models, prefer using an `Input(shape)` object as the first layer in the model instead.\n",
            "  super().__init__(activity_regularizer=activity_regularizer, **kwargs)\n"
          ]
        },
        {
          "output_type": "stream",
          "name": "stdout",
          "text": [
            "\u001b[1m63/63\u001b[0m \u001b[32m━━━━━━━━━━━━━━━━━━━━\u001b[0m\u001b[37m\u001b[0m \u001b[1m0s\u001b[0m 2ms/step\n"
          ]
        },
        {
          "output_type": "stream",
          "name": "stderr",
          "text": [
            "/usr/local/lib/python3.10/dist-packages/keras/src/layers/core/dense.py:87: UserWarning: Do not pass an `input_shape`/`input_dim` argument to a layer. When using Sequential models, prefer using an `Input(shape)` object as the first layer in the model instead.\n",
            "  super().__init__(activity_regularizer=activity_regularizer, **kwargs)\n"
          ]
        },
        {
          "output_type": "stream",
          "name": "stdout",
          "text": [
            "\u001b[1m63/63\u001b[0m \u001b[32m━━━━━━━━━━━━━━━━━━━━\u001b[0m\u001b[37m\u001b[0m \u001b[1m0s\u001b[0m 2ms/step\n"
          ]
        },
        {
          "output_type": "stream",
          "name": "stderr",
          "text": [
            "/usr/local/lib/python3.10/dist-packages/keras/src/layers/core/dense.py:87: UserWarning: Do not pass an `input_shape`/`input_dim` argument to a layer. When using Sequential models, prefer using an `Input(shape)` object as the first layer in the model instead.\n",
            "  super().__init__(activity_regularizer=activity_regularizer, **kwargs)\n"
          ]
        },
        {
          "output_type": "stream",
          "name": "stdout",
          "text": [
            "\u001b[1m63/63\u001b[0m \u001b[32m━━━━━━━━━━━━━━━━━━━━\u001b[0m\u001b[37m\u001b[0m \u001b[1m0s\u001b[0m 2ms/step\n"
          ]
        }
      ],
      "source": [
        "# Configurações para o ajuste manual dos hiperparâmetros\n",
        "optimizer_configs = [('adam', Adam), ('rmsprop', RMSprop), ('sgd', SGD)]\n",
        "batch_sizes = [10, 20]\n",
        "epochs_list = [10, 50]\n",
        "\n",
        "results = []\n",
        "for opt_name, OptClass in optimizer_configs:\n",
        "    for batch_size in batch_sizes:\n",
        "        for epochs in epochs_list:\n",
        "            optimizer = OptClass(learning_rate=0.001)  # Criando um novo otimizador a cada iteração\n",
        "            model = create_model(optimizer)\n",
        "            model.fit(X_train, y_train, epochs=epochs, batch_size=batch_size, verbose=0)\n",
        "            y_pred = (model.predict(X_test) > 0.5).astype(\"int32\")\n",
        "            prec = precision_score(y_test, y_pred, zero_division=0)\n",
        "            rec = recall_score(y_test, y_pred)\n",
        "            f1 = f1_score(y_test, y_pred)\n",
        "            roc_auc = roc_auc_score(y_test, y_pred)\n",
        "            results.append((opt_name, batch_size, epochs, prec, rec, f1, roc_auc))\n",
        "\n"
      ]
    },
    {
      "cell_type": "markdown",
      "metadata": {
        "id": "BWG8Ed1HyirK"
      },
      "source": [
        "6. Exibição dos Resultados\n",
        "Os resultados de cada configuração são impressos, permitindo uma análise direta de como cada ajuste de hiperparâmetro afeta o desempenho do modelo."
      ]
    },
    {
      "cell_type": "code",
      "execution_count": 8,
      "metadata": {
        "colab": {
          "base_uri": "https://localhost:8080/"
        },
        "id": "nT7kAXhXylQW",
        "outputId": "3d43da44-2d2c-4c7d-db29-8709ab25c4a6"
      },
      "outputs": [
        {
          "output_type": "stream",
          "name": "stdout",
          "text": [
            "Optimizer: adam, Batch size: 10, Epochs: 10, Precision: 0.0, Recall: 0.0, F1-Score: 0.0, AUC-ROC: 0.5\n",
            "Optimizer: adam, Batch size: 10, Epochs: 50, Precision: 0.0, Recall: 0.0, F1-Score: 0.0, AUC-ROC: 0.5\n",
            "Optimizer: adam, Batch size: 20, Epochs: 10, Precision: 0.0, Recall: 0.0, F1-Score: 0.0, AUC-ROC: 0.5\n",
            "Optimizer: adam, Batch size: 20, Epochs: 50, Precision: 0.0, Recall: 0.0, F1-Score: 0.0, AUC-ROC: 0.5\n",
            "Optimizer: rmsprop, Batch size: 10, Epochs: 10, Precision: 0.0, Recall: 0.0, F1-Score: 0.0, AUC-ROC: 0.5\n",
            "Optimizer: rmsprop, Batch size: 10, Epochs: 50, Precision: 0.0, Recall: 0.0, F1-Score: 0.0, AUC-ROC: 0.5\n",
            "Optimizer: rmsprop, Batch size: 20, Epochs: 10, Precision: 0.0, Recall: 0.0, F1-Score: 0.0, AUC-ROC: 0.5\n",
            "Optimizer: rmsprop, Batch size: 20, Epochs: 50, Precision: 0.0, Recall: 0.0, F1-Score: 0.0, AUC-ROC: 0.5\n",
            "Optimizer: sgd, Batch size: 10, Epochs: 10, Precision: 0.0, Recall: 0.0, F1-Score: 0.0, AUC-ROC: 0.5\n",
            "Optimizer: sgd, Batch size: 10, Epochs: 50, Precision: 0.0, Recall: 0.0, F1-Score: 0.0, AUC-ROC: 0.5\n",
            "Optimizer: sgd, Batch size: 20, Epochs: 10, Precision: 0.0, Recall: 0.0, F1-Score: 0.0, AUC-ROC: 0.5\n",
            "Optimizer: sgd, Batch size: 20, Epochs: 50, Precision: 0.0, Recall: 0.0, F1-Score: 0.0, AUC-ROC: 0.5\n"
          ]
        }
      ],
      "source": [
        "# Exibindo os resultados\n",
        "for result in results:\n",
        "    print(f\"Optimizer: {result[0]}, Batch size: {result[1]}, Epochs: {result[2]}, Precision: {result[3]}, Recall: {result[4]}, F1-Score: {result[5]}, AUC-ROC: {result[6]}\")\n"
      ]
    }
  ],
  "metadata": {
    "colab": {
      "provenance": []
    },
    "kernelspec": {
      "display_name": "Python 3",
      "name": "python3"
    },
    "language_info": {
      "name": "python"
    }
  },
  "nbformat": 4,
  "nbformat_minor": 0
}